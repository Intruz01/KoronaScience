{
  "nbformat": 4,
  "nbformat_minor": 0,
  "metadata": {
    "colab": {
      "name": "Day1.ipynb",
      "provenance": [],
      "collapsed_sections": [],
      "authorship_tag": "ABX9TyMl5QnPJgB5CE8yarU9L3Nl",
      "include_colab_link": true
    },
    "kernelspec": {
      "name": "python3",
      "display_name": "Python 3"
    },
    "accelerator": "GPU"
  },
  "cells": [
    {
      "cell_type": "markdown",
      "metadata": {
        "id": "view-in-github",
        "colab_type": "text"
      },
      "source": [
        "<a href=\"https://colab.research.google.com/github/Intruz01/KoronaScience/blob/master/Day1.ipynb\" target=\"_parent\"><img src=\"https://colab.research.google.com/assets/colab-badge.svg\" alt=\"Open In Colab\"/></a>"
      ]
    },
    {
      "cell_type": "code",
      "metadata": {
        "id": "kQizDCRxjF1f",
        "colab_type": "code",
        "colab": {}
      },
      "source": [
        "## IMPORT LIBRARIES\n",
        "\n",
        "import numpy as np\n",
        "import matplotlib.pyplot as plt\n",
        "plt.rcParams['figure.figsize'] = [15, 5]\n",
        "\n",
        "import pandas as pd\n",
        "from pandas.plotting import register_matplotlib_converters\n",
        "register_matplotlib_converters()\n",
        "\n",
        "import plotly.express as px\n",
        "import plotly.graph_objects as go\n",
        "from plotly.subplots import make_subplots\n",
        "\n",
        "from IPython import display\n",
        "from ipywidgets import interact, widgets"
      ],
      "execution_count": 0,
      "outputs": []
    },
    {
      "cell_type": "code",
      "metadata": {
        "id": "UooIFUtIl9Xg",
        "colab_type": "code",
        "colab": {}
      },
      "source": [
        "## READ DATA FOR CASES, DEATH and RECOVERIES\n",
        "\n",
        "df_confirmed_cases_raw=pd.read_csv('https://raw.githubusercontent.com/CSSEGISandData/COVID-19/master/csse_covid_19_data/csse_covid_19_time_series/time_series_covid19_confirmed_global.csv')\n",
        "df_deaths_raw=pd.read_csv('https://raw.githubusercontent.com/CSSEGISandData/COVID-19/master/csse_covid_19_data/csse_covid_19_time_series/time_series_covid19_deaths_global.csv')\n",
        "df_recoveries_raw=pd.read_csv('https://raw.githubusercontent.com/CSSEGISandData/COVID-19/master/csse_covid_19_data/csse_covid_19_time_series/time_series_covid19_recovered_global.csv')"
      ],
      "execution_count": 0,
      "outputs": []
    },
    {
      "cell_type": "code",
      "metadata": {
        "id": "aeoOwUGlmsKj",
        "colab_type": "code",
        "colab": {}
      },
      "source": [
        "def clean_data(df_raw):\n",
        "  df_cleaned = df_raw.melt(id_vars=['Province/State', 'Country/Region', 'Lat', 'Long'], value_name='Cases', var_name='Date')\n",
        "  df_cleaned = df_cleaned.set_index(['Country/Region', 'Province/State', 'Date'])\n",
        "  return df_cleaned\n",
        "\n",
        "## CLEAN ALL DAASETS\n",
        "\n",
        "df_confirmed_cases = clean_data(df_confirmed_cases_raw)\n",
        "df_deaths = clean_data(df_deaths_raw)\n",
        "df_recovers = clean_data(df_recoveries_raw)"
      ],
      "execution_count": 0,
      "outputs": []
    },
    {
      "cell_type": "code",
      "metadata": {
        "id": "3oyABcQjeZSk",
        "colab_type": "code",
        "colab": {
          "base_uri": "https://localhost:8080/",
          "height": 390
        },
        "outputId": "b861fa4d-4427-4d80-c693-bf709e47646c"
      },
      "source": [
        "df_deaths.sample(10)"
      ],
      "execution_count": 4,
      "outputs": [
        {
          "output_type": "execute_result",
          "data": {
            "text/html": [
              "<div>\n",
              "<style scoped>\n",
              "    .dataframe tbody tr th:only-of-type {\n",
              "        vertical-align: middle;\n",
              "    }\n",
              "\n",
              "    .dataframe tbody tr th {\n",
              "        vertical-align: top;\n",
              "    }\n",
              "\n",
              "    .dataframe thead th {\n",
              "        text-align: right;\n",
              "    }\n",
              "</style>\n",
              "<table border=\"1\" class=\"dataframe\">\n",
              "  <thead>\n",
              "    <tr style=\"text-align: right;\">\n",
              "      <th></th>\n",
              "      <th></th>\n",
              "      <th></th>\n",
              "      <th>Lat</th>\n",
              "      <th>Long</th>\n",
              "      <th>Cases</th>\n",
              "    </tr>\n",
              "    <tr>\n",
              "      <th>Country/Region</th>\n",
              "      <th>Province/State</th>\n",
              "      <th>Date</th>\n",
              "      <th></th>\n",
              "      <th></th>\n",
              "      <th></th>\n",
              "    </tr>\n",
              "  </thead>\n",
              "  <tbody>\n",
              "    <tr>\n",
              "      <th>Kenya</th>\n",
              "      <th>NaN</th>\n",
              "      <th>1/31/20</th>\n",
              "      <td>-0.0236</td>\n",
              "      <td>37.9062</td>\n",
              "      <td>0</td>\n",
              "    </tr>\n",
              "    <tr>\n",
              "      <th rowspan=\"3\" valign=\"top\">China</th>\n",
              "      <th>Shandong</th>\n",
              "      <th>3/21/20</th>\n",
              "      <td>36.3427</td>\n",
              "      <td>118.1498</td>\n",
              "      <td>7</td>\n",
              "    </tr>\n",
              "    <tr>\n",
              "      <th>Chongqing</th>\n",
              "      <th>2/10/20</th>\n",
              "      <td>30.0572</td>\n",
              "      <td>107.8740</td>\n",
              "      <td>2</td>\n",
              "    </tr>\n",
              "    <tr>\n",
              "      <th>Hebei</th>\n",
              "      <th>3/5/20</th>\n",
              "      <td>39.5490</td>\n",
              "      <td>116.1306</td>\n",
              "      <td>6</td>\n",
              "    </tr>\n",
              "    <tr>\n",
              "      <th>Diamond Princess</th>\n",
              "      <th>NaN</th>\n",
              "      <th>2/3/20</th>\n",
              "      <td>0.0000</td>\n",
              "      <td>0.0000</td>\n",
              "      <td>0</td>\n",
              "    </tr>\n",
              "    <tr>\n",
              "      <th>China</th>\n",
              "      <th>Chongqing</th>\n",
              "      <th>4/10/20</th>\n",
              "      <td>30.0572</td>\n",
              "      <td>107.8740</td>\n",
              "      <td>6</td>\n",
              "    </tr>\n",
              "    <tr>\n",
              "      <th>Mauritius</th>\n",
              "      <th>NaN</th>\n",
              "      <th>3/31/20</th>\n",
              "      <td>-20.2000</td>\n",
              "      <td>57.5000</td>\n",
              "      <td>5</td>\n",
              "    </tr>\n",
              "    <tr>\n",
              "      <th>Thailand</th>\n",
              "      <th>NaN</th>\n",
              "      <th>3/24/20</th>\n",
              "      <td>15.0000</td>\n",
              "      <td>101.0000</td>\n",
              "      <td>4</td>\n",
              "    </tr>\n",
              "    <tr>\n",
              "      <th>Saudi Arabia</th>\n",
              "      <th>NaN</th>\n",
              "      <th>2/11/20</th>\n",
              "      <td>24.0000</td>\n",
              "      <td>45.0000</td>\n",
              "      <td>0</td>\n",
              "    </tr>\n",
              "    <tr>\n",
              "      <th>Taiwan*</th>\n",
              "      <th>NaN</th>\n",
              "      <th>3/14/20</th>\n",
              "      <td>23.7000</td>\n",
              "      <td>121.0000</td>\n",
              "      <td>1</td>\n",
              "    </tr>\n",
              "  </tbody>\n",
              "</table>\n",
              "</div>"
            ],
            "text/plain": [
              "                                             Lat      Long  Cases\n",
              "Country/Region   Province/State Date                             \n",
              "Kenya            NaN            1/31/20  -0.0236   37.9062      0\n",
              "China            Shandong       3/21/20  36.3427  118.1498      7\n",
              "                 Chongqing      2/10/20  30.0572  107.8740      2\n",
              "                 Hebei          3/5/20   39.5490  116.1306      6\n",
              "Diamond Princess NaN            2/3/20    0.0000    0.0000      0\n",
              "China            Chongqing      4/10/20  30.0572  107.8740      6\n",
              "Mauritius        NaN            3/31/20 -20.2000   57.5000      5\n",
              "Thailand         NaN            3/24/20  15.0000  101.0000      4\n",
              "Saudi Arabia     NaN            2/11/20  24.0000   45.0000      0\n",
              "Taiwan*          NaN            3/14/20  23.7000  121.0000      1"
            ]
          },
          "metadata": {
            "tags": []
          },
          "execution_count": 4
        }
      ]
    },
    {
      "cell_type": "code",
      "metadata": {
        "id": "BOAdWNMVfRVz",
        "colab_type": "code",
        "colab": {
          "base_uri": "https://localhost:8080/",
          "height": 390
        },
        "outputId": "b1270fe0-ffc6-4964-ef82-42e75699026a"
      },
      "source": [
        "df_polska = df_confirmed_cases.loc['Poland']\n",
        "df_polska.tail(10)"
      ],
      "execution_count": 5,
      "outputs": [
        {
          "output_type": "execute_result",
          "data": {
            "text/html": [
              "<div>\n",
              "<style scoped>\n",
              "    .dataframe tbody tr th:only-of-type {\n",
              "        vertical-align: middle;\n",
              "    }\n",
              "\n",
              "    .dataframe tbody tr th {\n",
              "        vertical-align: top;\n",
              "    }\n",
              "\n",
              "    .dataframe thead th {\n",
              "        text-align: right;\n",
              "    }\n",
              "</style>\n",
              "<table border=\"1\" class=\"dataframe\">\n",
              "  <thead>\n",
              "    <tr style=\"text-align: right;\">\n",
              "      <th></th>\n",
              "      <th></th>\n",
              "      <th>Lat</th>\n",
              "      <th>Long</th>\n",
              "      <th>Cases</th>\n",
              "    </tr>\n",
              "    <tr>\n",
              "      <th>Province/State</th>\n",
              "      <th>Date</th>\n",
              "      <th></th>\n",
              "      <th></th>\n",
              "      <th></th>\n",
              "    </tr>\n",
              "  </thead>\n",
              "  <tbody>\n",
              "    <tr>\n",
              "      <th rowspan=\"10\" valign=\"top\">NaN</th>\n",
              "      <th>4/3/20</th>\n",
              "      <td>51.9194</td>\n",
              "      <td>19.1451</td>\n",
              "      <td>3383</td>\n",
              "    </tr>\n",
              "    <tr>\n",
              "      <th>4/4/20</th>\n",
              "      <td>51.9194</td>\n",
              "      <td>19.1451</td>\n",
              "      <td>3627</td>\n",
              "    </tr>\n",
              "    <tr>\n",
              "      <th>4/5/20</th>\n",
              "      <td>51.9194</td>\n",
              "      <td>19.1451</td>\n",
              "      <td>4102</td>\n",
              "    </tr>\n",
              "    <tr>\n",
              "      <th>4/6/20</th>\n",
              "      <td>51.9194</td>\n",
              "      <td>19.1451</td>\n",
              "      <td>4413</td>\n",
              "    </tr>\n",
              "    <tr>\n",
              "      <th>4/7/20</th>\n",
              "      <td>51.9194</td>\n",
              "      <td>19.1451</td>\n",
              "      <td>4848</td>\n",
              "    </tr>\n",
              "    <tr>\n",
              "      <th>4/8/20</th>\n",
              "      <td>51.9194</td>\n",
              "      <td>19.1451</td>\n",
              "      <td>5205</td>\n",
              "    </tr>\n",
              "    <tr>\n",
              "      <th>4/9/20</th>\n",
              "      <td>51.9194</td>\n",
              "      <td>19.1451</td>\n",
              "      <td>5575</td>\n",
              "    </tr>\n",
              "    <tr>\n",
              "      <th>4/10/20</th>\n",
              "      <td>51.9194</td>\n",
              "      <td>19.1451</td>\n",
              "      <td>5955</td>\n",
              "    </tr>\n",
              "    <tr>\n",
              "      <th>4/11/20</th>\n",
              "      <td>51.9194</td>\n",
              "      <td>19.1451</td>\n",
              "      <td>6356</td>\n",
              "    </tr>\n",
              "    <tr>\n",
              "      <th>4/12/20</th>\n",
              "      <td>51.9194</td>\n",
              "      <td>19.1451</td>\n",
              "      <td>6674</td>\n",
              "    </tr>\n",
              "  </tbody>\n",
              "</table>\n",
              "</div>"
            ],
            "text/plain": [
              "                            Lat     Long  Cases\n",
              "Province/State Date                            \n",
              "NaN            4/3/20   51.9194  19.1451   3383\n",
              "               4/4/20   51.9194  19.1451   3627\n",
              "               4/5/20   51.9194  19.1451   4102\n",
              "               4/6/20   51.9194  19.1451   4413\n",
              "               4/7/20   51.9194  19.1451   4848\n",
              "               4/8/20   51.9194  19.1451   5205\n",
              "               4/9/20   51.9194  19.1451   5575\n",
              "               4/10/20  51.9194  19.1451   5955\n",
              "               4/11/20  51.9194  19.1451   6356\n",
              "               4/12/20  51.9194  19.1451   6674"
            ]
          },
          "metadata": {
            "tags": []
          },
          "execution_count": 5
        }
      ]
    },
    {
      "cell_type": "code",
      "metadata": {
        "id": "PQRK28r1fytQ",
        "colab_type": "code",
        "colab": {
          "base_uri": "https://localhost:8080/",
          "height": 513
        },
        "outputId": "b4cb0729-8142-4f71-a93f-01c103f34b09"
      },
      "source": [
        "df_polska.plot(y='Cases', figsize=(15, 8), marker='o', title='Potwierdzone przypradki wykrycia COVID19');"
      ],
      "execution_count": 6,
      "outputs": [
        {
          "output_type": "display_data",
          "data": {
            "image/png": "[encoded data removed]",
            "text/plain": [
              "<Figure size 1080x576 with 1 Axes>"
            ]
          },
          "metadata": {
            "tags": [],
            "needs_background": "light"
          }
        }
      ]
    },
    {
      "cell_type": "code",
      "metadata": {
        "id": "ACRJtJHBglFl",
        "colab_type": "code",
        "colab": {
          "base_uri": "https://localhost:8080/",
          "height": 85
        },
        "outputId": "bae10f90-85d0-491b-bd7b-2358841a49ee"
      },
      "source": [
        "df_hubei = df_confirmed_cases.loc['China', 'Hubei']"
      ],
      "execution_count": 7,
      "outputs": [
        {
          "output_type": "stream",
          "text": [
            "/usr/local/lib/python3.6/dist-packages/ipykernel_launcher.py:1: PerformanceWarning:\n",
            "\n",
            "indexing past lexsort depth may impact performance.\n",
            "\n"
          ],
          "name": "stderr"
        }
      ]
    },
    {
      "cell_type": "code",
      "metadata": {
        "id": "io2oYyZXhuLp",
        "colab_type": "code",
        "colab": {}
      },
      "source": [
        "df_poland_and_hubei = df_polska.merge(df_hubei, left_on='Date', right_on='Date')"
      ],
      "execution_count": 0,
      "outputs": []
    },
    {
      "cell_type": "code",
      "metadata": {
        "id": "r9liTPnEq7LD",
        "colab_type": "code",
        "colab": {
          "base_uri": "https://localhost:8080/",
          "height": 513
        },
        "outputId": "33a3770d-ce0f-4c10-ab23-a1498db9ea56"
      },
      "source": [
        "df_poland_and_hubei.plot(y=['Cases_x', 'Cases_y'], figsize=(15, 8), marker='o', title='Potwierdzone przypradki wykrycia COVID19', logy=True);"
      ],
      "execution_count": 9,
      "outputs": [
        {
          "output_type": "display_data",
          "data": {
            "image/png": "[encoded data removed]",
            "text/plain": [
              "<Figure size 1080x576 with 1 Axes>"
            ]
          },
          "metadata": {
            "tags": [],
            "needs_background": "light"
          }
        }
      ]
    },
    {
      "cell_type": "code",
      "metadata": {
        "id": "HAUTS8dsrtjz",
        "colab_type": "code",
        "colab": {}
      },
      "source": [
        " "
      ],
      "execution_count": 0,
      "outputs": []
    }
  ]
}